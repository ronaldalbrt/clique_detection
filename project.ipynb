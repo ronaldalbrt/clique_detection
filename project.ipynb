{
 "cells": [
  {
   "attachments": {},
   "cell_type": "markdown",
   "metadata": {},
   "source": [
    "# Teste"
   ]
  },
  {
   "cell_type": "code",
   "execution_count": 1,
   "metadata": {},
   "outputs": [],
   "source": [
    "# Torch import\n",
    "from dataset import generate_graph, generate_dataset\n",
    "from config import *\n",
    "\n",
    "G = generate_graph(200, 0.5, 50)"
   ]
  },
  {
   "cell_type": "code",
   "execution_count": 2,
   "metadata": {},
   "outputs": [
    {
     "ename": "TypeError",
     "evalue": "GCN.__init__() missing 1 required positional argument: 'dropout'",
     "output_type": "error",
     "traceback": [
      "\u001b[0;31m---------------------------------------------------------------------------\u001b[0m",
      "\u001b[0;31mTypeError\u001b[0m                                 Traceback (most recent call last)",
      "Cell \u001b[0;32mIn[2], line 20\u001b[0m\n\u001b[1;32m     17\u001b[0m num_features \u001b[39m=\u001b[39m \u001b[39m1\u001b[39m\n\u001b[1;32m     18\u001b[0m num_labels \u001b[39m=\u001b[39m \u001b[39m2\u001b[39m\n\u001b[0;32m---> 20\u001b[0m model \u001b[39m=\u001b[39m GCN(num_features, \n\u001b[1;32m     21\u001b[0m             GraphSAGE_args[\u001b[39m'\u001b[39;49m\u001b[39mhidden_dim\u001b[39;49m\u001b[39m'\u001b[39;49m],\n\u001b[1;32m     22\u001b[0m             num_labels, GraphSAGE_args[\u001b[39m'\u001b[39;49m\u001b[39mnum_layers\u001b[39;49m\u001b[39m'\u001b[39;49m])\u001b[39m.\u001b[39mto(device)\n\u001b[1;32m     24\u001b[0m model\u001b[39m.\u001b[39mload_state_dict(torch\u001b[39m.\u001b[39mload(trained_models_dir\u001b[39m+\u001b[39m\u001b[39m\"\u001b[39m\u001b[39m/GIN_10_model.pt\u001b[39m\u001b[39m\"\u001b[39m))\n\u001b[1;32m     25\u001b[0m model\u001b[39m.\u001b[39meval()\n",
      "\u001b[0;31mTypeError\u001b[0m: GCN.__init__() missing 1 required positional argument: 'dropout'"
     ]
    }
   ],
   "source": [
    "import torch\n",
    "from torch.nn import Sequential, Linear, ReLU, BatchNorm1d\n",
    "from models.GCN_model import GCN\n",
    "from models.GraphSAGE_model import GraphSAGE\n",
    "from models.GAT_model import GAT\n",
    "from models.GIN_model import GIN\n",
    "\n",
    "GIN_args = {\n",
    "    'device': device,\n",
    "    'num_layers': 3,\n",
    "    'hidden_dim': 64,\n",
    "    'dropout': 0.5,\n",
    "    'lr': 0.001,\n",
    "    'epochs': 100,\n",
    "}\n",
    "\n",
    "num_features = 1\n",
    "num_labels = 2\n",
    "\n",
    "model = GIN(num_features, \n",
    "            GIN_args['hidden_dim'],\n",
    "            GIN_args['dropout'],\n",
    "            num_labels, GIN_args['num_layers']).to(device)\n",
    "\n",
    "model.load_state_dict(torch.load(trained_models_dir+\"/GIN_10_model.pt\"))\n",
    "model.eval()"
   ]
  },
  {
   "cell_type": "code",
   "execution_count": 26,
   "metadata": {},
   "outputs": [
    {
     "data": {
      "text/plain": [
       "{'train_results': {'roc_auc': 0.7066666666666667,\n",
       "  'acc': 0.1,\n",
       "  'f1': 0.18181818181818182,\n",
       "  'precision': 0.1,\n",
       "  'recall': 1.0},\n",
       " 'valid_results': {'roc_auc': 0.7466666666666666,\n",
       "  'acc': 0.1,\n",
       "  'f1': 0.18181818181818182,\n",
       "  'precision': 0.1,\n",
       "  'recall': 1.0},\n",
       " 'test_results': {'roc_auc': 0.7702777777777778,\n",
       "  'acc': 0.1,\n",
       "  'f1': 0.18181818181818182,\n",
       "  'precision': 0.1,\n",
       "  'recall': 1.0}}"
      ]
     },
     "execution_count": 26,
     "metadata": {},
     "output_type": "execute_result"
    }
   ],
   "source": [
    "import pickle \n",
    "\n",
    "with open(results_dir+\"GIN_10_results.pickle\", \"rb\") as f:\n",
    "    results = pickle.load(f)\n",
    "\n",
    "results['best']"
   ]
  },
  {
   "cell_type": "code",
   "execution_count": 27,
   "metadata": {},
   "outputs": [
    {
     "data": {
      "text/plain": [
       "tensor([0, 0, 0, 0, 0, 0, 0, 0, 0, 0, 0, 0, 0, 0, 0, 0, 0, 0, 0, 0, 0, 0, 0, 0,\n",
       "        0, 0, 0, 0, 0, 0, 0, 0, 0, 0, 0, 0, 0, 0, 0, 0, 0, 0, 0, 0, 0, 0, 0, 0,\n",
       "        0, 0, 0, 0, 0, 0, 0, 0, 0, 0, 0, 0, 0, 0, 0, 0, 0, 0, 0, 0, 0, 0, 0, 0,\n",
       "        0, 0, 0, 0, 0, 0, 0, 0, 0, 0, 0, 0, 0, 0, 0, 0, 0, 0, 0, 0, 0, 0, 0, 0,\n",
       "        0, 0, 0, 0, 0, 0, 0, 0, 0, 0, 0, 0, 0, 0, 0, 0, 0, 0, 0, 0, 0, 0, 0, 0,\n",
       "        0, 0, 0, 0, 0, 0, 0, 0, 0, 0, 0, 0, 0, 0, 0, 0, 0, 0, 0, 0, 0, 0, 0, 0,\n",
       "        0, 0, 0, 0, 0, 0, 0, 0, 0, 0, 0, 0, 0, 0, 0, 0, 0, 0, 0, 0, 0, 0, 0, 0,\n",
       "        0, 0, 0, 0, 0, 0, 0, 0, 0, 0, 0, 0, 0, 0, 0, 0, 0, 0, 0, 0, 0, 0, 0, 0,\n",
       "        0, 0, 0, 0, 0, 0, 0, 0], device='cuda:0')"
      ]
     },
     "execution_count": 27,
     "metadata": {},
     "output_type": "execute_result"
    }
   ],
   "source": [
    "model(G.to(device)).argmax(dim=-1, keepdim=True).squeeze() "
   ]
  },
  {
   "cell_type": "code",
   "execution_count": 28,
   "metadata": {},
   "outputs": [
    {
     "data": {
      "text/plain": [
       "tensor([1, 0, 0, 0, 0, 1, 0, 0, 1, 1, 0, 1, 0, 0, 0, 1, 1, 0, 0, 1, 0, 0, 0, 0,\n",
       "        1, 0, 0, 0, 1, 0, 0, 0, 0, 0, 0, 0, 0, 0, 0, 0, 0, 0, 1, 0, 1, 0, 1, 0,\n",
       "        1, 1, 0, 0, 0, 0, 0, 0, 0, 1, 1, 1, 0, 1, 0, 1, 0, 1, 0, 0, 0, 0, 0, 0,\n",
       "        0, 0, 0, 0, 0, 1, 1, 0, 0, 0, 1, 0, 0, 1, 0, 0, 0, 0, 0, 0, 1, 1, 0, 0,\n",
       "        0, 1, 0, 1, 0, 0, 0, 0, 0, 0, 0, 0, 0, 0, 1, 0, 0, 0, 0, 0, 0, 0, 0, 0,\n",
       "        1, 0, 0, 1, 1, 0, 0, 0, 0, 0, 1, 0, 1, 0, 0, 0, 0, 0, 0, 0, 0, 0, 0, 0,\n",
       "        0, 0, 0, 0, 1, 0, 1, 0, 0, 0, 0, 0, 0, 0, 0, 1, 0, 0, 0, 1, 0, 0, 1, 0,\n",
       "        0, 0, 1, 0, 0, 0, 0, 1, 0, 0, 1, 0, 0, 0, 0, 1, 0, 0, 0, 1, 0, 1, 0, 1,\n",
       "        0, 0, 1, 0, 1, 1, 0, 0], device='cuda:0')"
      ]
     },
     "execution_count": 28,
     "metadata": {},
     "output_type": "execute_result"
    }
   ],
   "source": [
    "G.y"
   ]
  }
 ],
 "metadata": {
  "kernelspec": {
   "display_name": "ml_graph",
   "language": "python",
   "name": "python3"
  },
  "language_info": {
   "codemirror_mode": {
    "name": "ipython",
    "version": 3
   },
   "file_extension": ".py",
   "mimetype": "text/x-python",
   "name": "python",
   "nbconvert_exporter": "python",
   "pygments_lexer": "ipython3",
   "version": "3.11.3"
  },
  "orig_nbformat": 4
 },
 "nbformat": 4,
 "nbformat_minor": 2
}
